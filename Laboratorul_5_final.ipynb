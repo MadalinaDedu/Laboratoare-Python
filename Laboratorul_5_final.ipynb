{
 "cells": [
  {
   "cell_type": "code",
   "execution_count": 133,
   "id": "143cc244",
   "metadata": {},
   "outputs": [
    {
     "name": "stdout",
     "output_type": "stream",
     "text": [
      "Print w [array([54, 49]), array([68, 63]), array([41, 56])]\n",
      "Prototipul:  2 : [44 85] cu patternul ascociat -> [45, 85]\n",
      "Prototipul:  1 : [49 42] cu patternul ascociat -> [50, 43]\n",
      "Prototipul:  2 : [40 81] cu patternul ascociat -> [40, 80]\n",
      "Prototipul:  1 : [53 42] cu patternul ascociat -> [55, 42]\n",
      "Prototipul:  0 : [198  42] cu patternul ascociat -> [200, 43]\n",
      "Prototipul:  1 : [49 40] cu patternul ascociat -> [48, 40]\n",
      "Prototipul:  0 : [195  41] cu patternul ascociat -> [195, 41]\n",
      "Prototipul:  2 : [42 85] cu patternul ascociat -> [43, 87]\n",
      "Prototipul:  0 : [191  40] cu patternul ascociat -> [190, 40]\n"
     ]
    }
   ],
   "source": [
    "import numpy as np \n",
    "import random\n",
    "# ALGORITMUL CASTIGATORUL IA TOT\n",
    "#DECLARARE DATE\n",
    "#initializare prototipuri \n",
    "w1=np.random.randint(40,90, size=2)\n",
    "w2=np.random.randint(40,90, size=2)\n",
    "w3=np.random.randint(40,90, size=2)\n",
    "\n",
    "w =[w1,w2,w3]\n",
    "#initializare prototipuri noi\n",
    "w_nou = [[],[],[]]\n",
    "#initializare patternuri\n",
    "x1 = [45,85]\n",
    "x2 = [50,43]\n",
    "x3 = [40,80]\n",
    "x4 = [55,42]\n",
    "x5 = [200,43]\n",
    "x6 = [48,40]\n",
    "x7 = [195,41]\n",
    "x8 = [43,87]\n",
    "x9 = [190,40]\n",
    "x = [x1,x2,x3,x4,x5,x6,x7,x8,x9]\n",
    "\n",
    "\n",
    "# print (x[0][0],x[0][1])\n",
    "print(\"Print w\",w)\n",
    "# initializare constanta de instruire\n",
    "c = 0.8\n",
    "\n",
    "# definire functie pentru stabilirea prototipului castigator\n",
    "def functie_prototip_castigator(x,w,c) :\n",
    "    x_nou = []\n",
    "    y_nou = []\n",
    "    w_nou = []\n",
    "    distanta =[]\n",
    "    nr_epoci = 0\n",
    "    while nr_epoci < 10:\n",
    "        for i in range (len(x)) :  #parcurgerea vectorului de patternuri    \n",
    "            for j in range (len(w)): # parcurgerea vectorului de protortipuri\n",
    "                dist = abs(x[i][0]-w[j][0]) + abs(x[i][1]-w[j][1])\n",
    "                distanta.append(dist) # stabilirea distantei dintre prototipuri si patternuri\n",
    "            minim = np.min(distanta) # calculul minimului distantei\n",
    "\n",
    "#             print(\"minim\",minim)\n",
    "            for k in range(len(distanta)):\n",
    "#                 print(\"dist\",distanta[k])\n",
    "                if minim == distanta[k] :\n",
    "                    x_nou = w[k][0] + c*(x[i][0]-w[k][0]) # modificarea prototipului pe x si y \n",
    "                    y_nou = w[k][1] + c*(x[i][1]-w[k][1])\n",
    "                    w[k][0] = x_nou\n",
    "                    w[k][1] = y_nou\n",
    "                    if nr_epoci == 9 :\n",
    "                        print(\"Prototipul: \",k,\":\", w[k],\"cu patternul ascociat ->\",x[i])\n",
    "            distanta.clear()    \n",
    "\n",
    "                \n",
    "        nr_epoci = nr_epoci + 1\n",
    "    \n",
    "\n",
    "functie_prototip_castigator(x,w,c)          "
   ]
  },
  {
   "cell_type": "code",
   "execution_count": null,
   "id": "1da69065",
   "metadata": {},
   "outputs": [],
   "source": []
  }
 ],
 "metadata": {
  "kernelspec": {
   "display_name": "Python 3 (ipykernel)",
   "language": "python",
   "name": "python3"
  },
  "language_info": {
   "codemirror_mode": {
    "name": "ipython",
    "version": 3
   },
   "file_extension": ".py",
   "mimetype": "text/x-python",
   "name": "python",
   "nbconvert_exporter": "python",
   "pygments_lexer": "ipython3",
   "version": "3.9.7"
  }
 },
 "nbformat": 4,
 "nbformat_minor": 5
}
