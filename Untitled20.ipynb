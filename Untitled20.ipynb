{
 "cells": [
  {
   "cell_type": "code",
   "execution_count": 5,
   "id": "dbb71b5b",
   "metadata": {},
   "outputs": [
    {
     "ename": "SyntaxError",
     "evalue": "(unicode error) 'unicodeescape' codec can't decode bytes in position 2-3: truncated \\UXXXXXXXX escape (Temp/ipykernel_2684/3376260258.py, line 33)",
     "output_type": "error",
     "traceback": [
      "\u001b[1;36m  File \u001b[1;32m\"C:\\Users\\user\\AppData\\Local\\Temp/ipykernel_2684/3376260258.py\"\u001b[1;36m, line \u001b[1;32m33\u001b[0m\n\u001b[1;33m    train_file = \"C:\\Users\\user\\Desktop\\AN 3 SEM 1\\Laboratoare IA\\banknote_train_mm_tab.txt\"\u001b[0m\n\u001b[1;37m                                                                                            ^\u001b[0m\n\u001b[1;31mSyntaxError\u001b[0m\u001b[1;31m:\u001b[0m (unicode error) 'unicodeescape' codec can't decode bytes in position 2-3: truncated \\UXXXXXXXX escape\n"
     ]
    }
   ],
   "source": [
    "# banknote_bnn.py\n",
    "import numpy as np\n",
    "import keras as K\n",
    "import os\n",
    "os.environ['TF_CPP_MIN_LOG_LEVEL']='2'  # suppress CPU msg\n",
    "\n",
    "class MyLogger(K.callbacks.Callback):\n",
    "    def __init__(self, n):\n",
    "        self.n = n   # print loss & acc every n epochs\n",
    "\n",
    "    def on_epoch_end(self, epoch, logs={}):\n",
    "        if epoch % self.n == 0:\n",
    "            curr_loss =logs.get('loss')\n",
    "            curr_acc = logs.get('acc') * 100\n",
    "            print(\"epoch = %4d loss = %0.6f acc = %0.2f%%\" % \\\n",
    "            (epoch, curr_loss, curr_acc))\n",
    "\n",
    "def main():\n",
    "    print(\"Banknote authentication example \")\n",
    "    np.random.seed(1)\n",
    "\n",
    "  # 1. load data into memory\n",
    "  # 2. define 4-(x-x)-1 deep NN model\n",
    "  # 3. compile model\n",
    "  # 4. train model\n",
    "  # 5. evaluate model\n",
    "  # 6. make a prediction\n",
    "\n",
    "if __name__==\"__main__\":\n",
    "    main()\n",
    "\n",
    "#----loading data--------\n",
    "train_file = \"C:\\Users\\user\\Desktop\\AN 3 SEM 1\\Laboratoare IA\\banknote_train_mm_tab.txt\"\n",
    "test_file = \"C:\\Users\\user\\Desktop\\AN 3 SEM 1\\Laboratoare IA\\banknote_test_mm_tab.txt\"\n",
    "\n",
    "train_x = np.loadtxt(train_file, delimiter='\\t',usecols=[0,1,2,3], dtype=np.float32)\n",
    "train_y = np.loadtxt(train_file, delimiter='\\t',usecols=[4], dtype=np.float32)\n",
    "\n",
    "#------Creating the Neural Network-------\n",
    "my_init = K.initializers.glorot_uniform(seed=1)\n",
    "model = K.models.Sequential()\n",
    "model.add(K.layers.Dense(units=8, input_dim=4,\n",
    "  activation='tanh', kernel_initializer=my_init)) \n",
    "model.add(K.layers.Dense(units=8, activation='tanh',\n",
    "  kernel_initializer=my_init)) \n",
    "model.add(K.layers.Dense(units=1, activation='sigmoid',\n",
    "  kernel_initializer=my_init))\n",
    "\n",
    "simple_sgd = K.optimizers.SGD(lr=0.01)  \n",
    "model.compile(loss='binary_crossentropy',\n",
    "  optimizer=simple_sgd, metrics=['accuracy']) \n",
    "\n",
    "#------training the model------\n",
    "max_epochs = 500\n",
    "my_logger = MyLogger(n=50)\n",
    "h = model.fit(train_x, train_y, batch_size=32,\n",
    "  epochs=max_epochs, verbose=0, callbacks=[my_logger])\n",
    "mp = \".\\\\Models\\\\banknote_model.h5\"\n",
    "model.save(mp)\n",
    "\n",
    "#-------evaluating and using the trained model------\n",
    "np.set_printoptions(precision=4, suppress=True)\n",
    "eval_results = model.evaluate(test_x, test_y, verbose=0) \n",
    "print(\"\\nLoss, accuracy on test data: \")\n",
    "print(\"%0.4f %0.2f%%\" % (eval_results[0], \\\n",
    "  eval_results[1]*100))\n",
    "\n",
    "#------make a prediction-----\n",
    "inpts = np.array([[0.5, 0.5, 0.5, 0.5]], dtype=np.float32)\n",
    "pred = model.predict(inpts)\n",
    "print(\"\\nPredicting authenticity for: \")\n",
    "print(inpts)\n",
    "print(\"Probability that class = 1 (fake):\")\n",
    "print(pred)\n"
   ]
  },
  {
   "cell_type": "code",
   "execution_count": null,
   "id": "fe19960b",
   "metadata": {},
   "outputs": [],
   "source": []
  },
  {
   "cell_type": "code",
   "execution_count": null,
   "id": "07fab4bd",
   "metadata": {},
   "outputs": [],
   "source": []
  },
  {
   "cell_type": "code",
   "execution_count": null,
   "id": "cf94a53e",
   "metadata": {},
   "outputs": [],
   "source": []
  },
  {
   "cell_type": "code",
   "execution_count": null,
   "id": "61b013c9",
   "metadata": {},
   "outputs": [],
   "source": []
  }
 ],
 "metadata": {
  "kernelspec": {
   "display_name": "Python 3 (ipykernel)",
   "language": "python",
   "name": "python3"
  },
  "language_info": {
   "codemirror_mode": {
    "name": "ipython",
    "version": 3
   },
   "file_extension": ".py",
   "mimetype": "text/x-python",
   "name": "python",
   "nbconvert_exporter": "python",
   "pygments_lexer": "ipython3",
   "version": "3.9.7"
  }
 },
 "nbformat": 4,
 "nbformat_minor": 5
}
